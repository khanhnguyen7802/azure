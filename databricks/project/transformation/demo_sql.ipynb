{
 "cells": [
  {
   "cell_type": "code",
   "execution_count": 0,
   "metadata": {
    "application/vnd.databricks.v1+cell": {
     "cellMetadata": {},
     "inputWidgets": {},
     "nuid": "3690d5bf-fb0d-4e0c-a502-a093bead16db",
     "showTitle": false,
     "tableResultSettingsMap": {},
     "title": ""
    }
   },
   "outputs": [],
   "source": [
    "%sql\n",
    "CREATE DATABASE IF NOT EXISTS demo;"
   ]
  },
  {
   "cell_type": "code",
   "execution_count": 0,
   "metadata": {
    "application/vnd.databricks.v1+cell": {
     "cellMetadata": {},
     "inputWidgets": {},
     "nuid": "e87a776c-006f-444a-acca-f77549927994",
     "showTitle": false,
     "tableResultSettingsMap": {},
     "title": ""
    }
   },
   "outputs": [],
   "source": [
    "SHOW DATABASES; "
   ]
  },
  {
   "cell_type": "code",
   "execution_count": 0,
   "metadata": {
    "application/vnd.databricks.v1+cell": {
     "cellMetadata": {},
     "inputWidgets": {},
     "nuid": "1119bd65-ab1f-4950-b1b4-e5d9f79c29b1",
     "showTitle": false,
     "tableResultSettingsMap": {},
     "title": ""
    }
   },
   "outputs": [],
   "source": [
    "DESCRIBE DATABASE demo; "
   ]
  },
  {
   "cell_type": "code",
   "execution_count": 0,
   "metadata": {
    "application/vnd.databricks.v1+cell": {
     "cellMetadata": {},
     "inputWidgets": {},
     "nuid": "441b2c9e-a979-4737-9d38-17799ba76d23",
     "showTitle": false,
     "tableResultSettingsMap": {},
     "title": ""
    }
   },
   "outputs": [],
   "source": [
    "SELECT current_database()"
   ]
  },
  {
   "cell_type": "code",
   "execution_count": 0,
   "metadata": {
    "application/vnd.databricks.v1+cell": {
     "cellMetadata": {},
     "inputWidgets": {},
     "nuid": "9fe9ed00-f3d5-484b-b0ac-18d6895b7d13",
     "showTitle": false,
     "tableResultSettingsMap": {},
     "title": ""
    }
   },
   "outputs": [],
   "source": [
    "USE demo; -- set this table into default"
   ]
  },
  {
   "cell_type": "code",
   "execution_count": 0,
   "metadata": {
    "application/vnd.databricks.v1+cell": {
     "cellMetadata": {},
     "inputWidgets": {},
     "nuid": "fddf4084-91d6-4692-984b-a23e0a587d0f",
     "showTitle": false,
     "tableResultSettingsMap": {},
     "title": ""
    }
   },
   "outputs": [],
   "source": [
    "SHOW TABLES; "
   ]
  },
  {
   "cell_type": "code",
   "execution_count": 0,
   "metadata": {
    "application/vnd.databricks.v1+cell": {
     "cellMetadata": {},
     "inputWidgets": {},
     "nuid": "d3edb49c-75a3-4925-bd04-d6855ba9a451",
     "showTitle": false,
     "tableResultSettingsMap": {},
     "title": ""
    }
   },
   "outputs": [],
   "source": [
    "SHOW TABLES IN DEFAULT; "
   ]
  },
  {
   "cell_type": "markdown",
   "metadata": {
    "application/vnd.databricks.v1+cell": {
     "cellMetadata": {},
     "inputWidgets": {},
     "nuid": "b0be196e-3617-4256-a0dd-cb6b221b823f",
     "showTitle": false,
     "tableResultSettingsMap": {},
     "title": ""
    }
   },
   "source": [
    "# CREATE MANAGED TABLE USING PYTHON"
   ]
  },
  {
   "cell_type": "code",
   "execution_count": 0,
   "metadata": {
    "application/vnd.databricks.v1+cell": {
     "cellMetadata": {},
     "inputWidgets": {},
     "nuid": "8bcd1b37-bd0c-4e72-8ecf-ea63baada695",
     "showTitle": false,
     "tableResultSettingsMap": {},
     "title": ""
    }
   },
   "outputs": [],
   "source": [
    "%run \"../includes/configuration\""
   ]
  },
  {
   "cell_type": "code",
   "execution_count": 0,
   "metadata": {
    "application/vnd.databricks.v1+cell": {
     "cellMetadata": {},
     "inputWidgets": {},
     "nuid": "5989691c-c86c-4a3d-997b-5661cb7b27e2",
     "showTitle": false,
     "tableResultSettingsMap": {},
     "title": ""
    }
   },
   "outputs": [],
   "source": [
    "%python \n",
    "race_results_df = spark.read.parquet(f\"{PRESENTATION_FOLDER_PATH}/race_results\")"
   ]
  },
  {
   "cell_type": "code",
   "execution_count": 0,
   "metadata": {
    "application/vnd.databricks.v1+cell": {
     "cellMetadata": {},
     "inputWidgets": {},
     "nuid": "15677a04-ff25-4488-a8b3-10f0c709439f",
     "showTitle": false,
     "tableResultSettingsMap": {},
     "title": ""
    }
   },
   "outputs": [],
   "source": [
    "%python \n",
    "race_results_df.write.format(\"parquet\").saveAsTable(\"demo.race_results_python\")"
   ]
  },
  {
   "cell_type": "code",
   "execution_count": 0,
   "metadata": {
    "application/vnd.databricks.v1+cell": {
     "cellMetadata": {},
     "inputWidgets": {},
     "nuid": "a4b002b9-e49d-4e4e-815d-cf721066de5f",
     "showTitle": false,
     "tableResultSettingsMap": {},
     "title": ""
    }
   },
   "outputs": [],
   "source": [
    "DESC EXTENDED demo.race_results_python -- describe the table "
   ]
  },
  {
   "cell_type": "markdown",
   "metadata": {
    "application/vnd.databricks.v1+cell": {
     "cellMetadata": {},
     "inputWidgets": {},
     "nuid": "323e5675-f8f5-44fe-8fc6-621947374cc8",
     "showTitle": false,
     "tableResultSettingsMap": {},
     "title": ""
    }
   },
   "source": [
    "# WORKING WITH EXTERNAL TABLE"
   ]
  },
  {
   "cell_type": "code",
   "execution_count": 0,
   "metadata": {
    "application/vnd.databricks.v1+cell": {
     "cellMetadata": {},
     "inputWidgets": {},
     "nuid": "083b5b88-3c8c-4ebf-bf59-d52e1928b280",
     "showTitle": false,
     "tableResultSettingsMap": {},
     "title": ""
    }
   },
   "outputs": [],
   "source": [
    "%python \n",
    "race_results_df.write.format(\"parquet\").options(\"path\", f\"{PRESENTATION_FOLDER_PATH}/race_results_ext_py\"). \\ # specify the path where to save the data\n",
    "    saveAsTable(f\"{PRESENTATION_FOLDER_PATH}/demo.race_results_ext_py\")"
   ]
  },
  {
   "cell_type": "code",
   "execution_count": 0,
   "metadata": {
    "application/vnd.databricks.v1+cell": {
     "cellMetadata": {},
     "inputWidgets": {},
     "nuid": "3de5b9ae-fdfd-4e06-8940-af58b45507c8",
     "showTitle": false,
     "tableResultSettingsMap": {},
     "title": ""
    }
   },
   "outputs": [],
   "source": [
    "DESC EXTENDED demo.race_results_ext_py -- describe the table "
   ]
  },
  {
   "cell_type": "markdown",
   "metadata": {
    "application/vnd.databricks.v1+cell": {
     "cellMetadata": {},
     "inputWidgets": {},
     "nuid": "c76985d9-04d3-4ad7-8ed8-21bc21b500b0",
     "showTitle": false,
     "tableResultSettingsMap": {},
     "title": ""
    }
   },
   "source": [
    "# CREATE EXTERNAL TABLE USING SQL"
   ]
  },
  {
   "cell_type": "code",
   "execution_count": 0,
   "metadata": {
    "application/vnd.databricks.v1+cell": {
     "cellMetadata": {},
     "inputWidgets": {},
     "nuid": "7944cf8f-7892-4b46-99bd-508d3ea3bc9b",
     "showTitle": false,
     "tableResultSettingsMap": {},
     "title": ""
    }
   },
   "outputs": [],
   "source": [
    "CREATE TABLE demo.race_results_ext_sql \n",
    "(race_year INT,\n",
    "race_name STRING,\n",
    "race_date TIMESTAMP,\n",
    "circuit_location STRING,\n",
    "driver_name STRING,\n",
    "driver_number INT,\n",
    "driver_nationality STRING,\n",
    "team STRING,\n",
    "grid INT,\n",
    "fastest_lap INT, \n",
    "race_time STRING,\n",
    "points FLOAT, \n",
    "position INT,\n",
    "created_date TIMESTAMP\n",
    ")\n",
    "USING PARQUET\n",
    "LOCATION \"/mnt/formula1in2025/presentation/race_results_ext_sql\""
   ]
  },
  {
   "cell_type": "code",
   "execution_count": 0,
   "metadata": {
    "application/vnd.databricks.v1+cell": {
     "cellMetadata": {},
     "inputWidgets": {},
     "nuid": "6c12c8c5-4236-4df9-bfa6-6bcd507f1fc9",
     "showTitle": false,
     "tableResultSettingsMap": {},
     "title": ""
    }
   },
   "outputs": [],
   "source": [
    "-- you might want to ingest data from another, NOT adding row 1 by 1 \n",
    "INSERT INTO demo.race_results_ext_sql \n",
    "SELECT * FROM demo.race_results_ext_py WHERE race_year = 2020"
   ]
  },
  {
   "cell_type": "markdown",
   "metadata": {
    "application/vnd.databricks.v1+cell": {
     "cellMetadata": {},
     "inputWidgets": {},
     "nuid": "4fb2c759-449d-479f-8842-fd87cdc015de",
     "showTitle": false,
     "tableResultSettingsMap": {},
     "title": ""
    }
   },
   "source": [
    "# VIEWS IN SQL"
   ]
  },
  {
   "cell_type": "markdown",
   "metadata": {
    "application/vnd.databricks.v1+cell": {
     "cellMetadata": {},
     "inputWidgets": {},
     "nuid": "1fba8dfc-22e8-4911-92a7-22d8517c14fe",
     "showTitle": false,
     "tableResultSettingsMap": {},
     "title": ""
    }
   },
   "source": [
    "## create LOCAL temporary view"
   ]
  },
  {
   "cell_type": "code",
   "execution_count": 0,
   "metadata": {
    "application/vnd.databricks.v1+cell": {
     "cellMetadata": {},
     "inputWidgets": {},
     "nuid": "b00d062b-5f2b-4f69-9928-fb0ee6f56494",
     "showTitle": false,
     "tableResultSettingsMap": {},
     "title": ""
    }
   },
   "outputs": [],
   "source": [
    "CREATE OR REPLACE TEMP VIEW demo.lv_race_results\n",
    "AS \n",
    "  (\n",
    "    SELECT * \n",
    "    FROM demo.race_results_python\n",
    "    WHERE race_year = 2020\n",
    "  )"
   ]
  },
  {
   "cell_type": "markdown",
   "metadata": {
    "application/vnd.databricks.v1+cell": {
     "cellMetadata": {},
     "inputWidgets": {},
     "nuid": "9d62bc7f-dbeb-4a9b-83d7-2440801060fd",
     "showTitle": false,
     "tableResultSettingsMap": {},
     "title": ""
    }
   },
   "source": [
    "## create GLOBAL temporary view"
   ]
  },
  {
   "cell_type": "code",
   "execution_count": 0,
   "metadata": {
    "application/vnd.databricks.v1+cell": {
     "cellMetadata": {},
     "inputWidgets": {},
     "nuid": "70cc422e-4ec2-4827-801c-8b0e93da64c1",
     "showTitle": false,
     "tableResultSettingsMap": {},
     "title": ""
    }
   },
   "outputs": [],
   "source": [
    "CREATE OR REPLACE GLOBAL TEMP VIEW demo.gv_race_results\n",
    "AS \n",
    "  (\n",
    "    SELECT * \n",
    "    FROM demo.race_results_python\n",
    "    WHERE race_year = 2020\n",
    "  )"
   ]
  },
  {
   "cell_type": "code",
   "execution_count": 0,
   "metadata": {
    "application/vnd.databricks.v1+cell": {
     "cellMetadata": {},
     "inputWidgets": {},
     "nuid": "0ba3a79a-9c15-4db7-abe3-5d2e96736850",
     "showTitle": false,
     "tableResultSettingsMap": {},
     "title": ""
    }
   },
   "outputs": [],
   "source": [
    "SELECT * FROM global_temp.gv_race_results"
   ]
  },
  {
   "cell_type": "markdown",
   "metadata": {
    "application/vnd.databricks.v1+cell": {
     "cellMetadata": {},
     "inputWidgets": {},
     "nuid": "22b03660-35f3-4055-a15e-ab1d8dcc9185",
     "showTitle": false,
     "tableResultSettingsMap": {},
     "title": ""
    }
   },
   "source": [
    "## create permanent view"
   ]
  },
  {
   "cell_type": "code",
   "execution_count": 0,
   "metadata": {
    "application/vnd.databricks.v1+cell": {
     "cellMetadata": {},
     "inputWidgets": {},
     "nuid": "8a9b9d0d-ccf5-40be-88e0-3f9ee61204ab",
     "showTitle": false,
     "tableResultSettingsMap": {},
     "title": ""
    }
   },
   "outputs": [],
   "source": [
    "CREATE OR REPLACE VIEW demo.pv_race_results\n",
    "AS \n",
    "  (\n",
    "    SELECT * \n",
    "    FROM demo.race_results_python\n",
    "    WHERE race_year = 2020\n",
    "  )"
   ]
  },
  {
   "cell_type": "code",
   "execution_count": 0,
   "metadata": {
    "application/vnd.databricks.v1+cell": {
     "cellMetadata": {},
     "inputWidgets": {},
     "nuid": "da4c8b6b-aff2-459c-8f62-7685d37c8467",
     "showTitle": false,
     "tableResultSettingsMap": {},
     "title": ""
    }
   },
   "outputs": [],
   "source": [
    "SHOW TABLES"
   ]
  },
  {
   "cell_type": "markdown",
   "metadata": {
    "application/vnd.databricks.v1+cell": {
     "cellMetadata": {},
     "inputWidgets": {},
     "nuid": "290624aa-aeed-49c7-9792-73c96e0b363d",
     "showTitle": false,
     "tableResultSettingsMap": {},
     "title": ""
    }
   },
   "source": [
    "### Some useful functions in SQL"
   ]
  },
  {
   "cell_type": "markdown",
   "metadata": {
    "application/vnd.databricks.v1+cell": {
     "cellMetadata": {},
     "inputWidgets": {},
     "nuid": "9c465acb-7453-41e1-8b8a-8d0cca391c53",
     "showTitle": false,
     "tableResultSettingsMap": {},
     "title": ""
    }
   },
   "source": [
    "To concat columns, use `concat`:\n",
    "\n",
    "```\n",
    "SELECT *, CONCAT(driver_ref, \"-\", code) AS new_driver_ref\n",
    "FROM drivers\n",
    "```"
   ]
  },
  {
   "cell_type": "markdown",
   "metadata": {
    "application/vnd.databricks.v1+cell": {
     "cellMetadata": {},
     "inputWidgets": {},
     "nuid": "ac4adfa5-b61e-4051-a87b-5a7f6f143572",
     "showTitle": false,
     "tableResultSettingsMap": {},
     "title": ""
    }
   },
   "source": [
    "To split the value of a column, use `split`. For example, this query will result in a new column containing arrays, with each array has values that are split (by ' ') in the query:\n",
    "```\n",
    "SELECT *, SPLIT(name, ' ')\n",
    "FROM drivers\n",
    "```\n",
    "\n",
    "In case we want to clarify the split by assigning the values, we can query like this:\n",
    "```\n",
    "SELECT *, SPLIT(name, ' ')[0] forename, SPLIT(name, ' ')[1] surname\n",
    "FROM drivers\n",
    "```\n"
   ]
  },
  {
   "cell_type": "markdown",
   "metadata": {
    "application/vnd.databricks.v1+cell": {
     "cellMetadata": {},
     "inputWidgets": {},
     "nuid": "c00db6d3-61e9-4215-9444-c8faa42b8b2f",
     "showTitle": false,
     "tableResultSettingsMap": {},
     "title": ""
    }
   },
   "source": [
    "To calculate the average of the whole dataset and (maybe) a part of the dataset based on some criteria, we use: \n",
    "\n",
    "```sql\n",
    "SELECT\n",
    "    car_make,\n",
    "    car_model,\n",
    "    car_price,\n",
    "    AVG(car_price) OVER() AS \"overall average price\", -- calculate the average price across all cars in the price list\n",
    "    AVG(car_price) OVER (PARTITION BY car_type) AS \"car type average price\" -- calculate the average price of a specific car_type\n",
    "FROM car_list_prices\n",
    "\n",
    "```"
   ]
  },
  {
   "cell_type": "markdown",
   "metadata": {
    "application/vnd.databricks.v1+cell": {
     "cellMetadata": {},
     "inputWidgets": {},
     "nuid": "0725fe71-1808-4a28-8d75-86762a38cf5d",
     "showTitle": false,
     "tableResultSettingsMap": {},
     "title": ""
    }
   },
   "source": [
    "### Explanation about JOINS"
   ]
  },
  {
   "cell_type": "markdown",
   "metadata": {
    "application/vnd.databricks.v1+cell": {
     "cellMetadata": {},
     "inputWidgets": {},
     "nuid": "19f2b223-0b90-4f0d-bb43-9cf25c54c266",
     "showTitle": false,
     "tableResultSettingsMap": {},
     "title": ""
    }
   },
   "source": [
    "Suppose there are 2 tables TableA and TableB with only 2 columns (Id, Data) and following data:\n",
    "```\n",
    "TableA:\n",
    "+----+---------+\n",
    "| Id |  Data   |\n",
    "+----+---------+\n",
    "|  1 | DataA11 |\n",
    "|  1 | DataA12 |\n",
    "|  1 | DataA13 |\n",
    "|  2 | DataA21 |\n",
    "|  3 | DataA31 |\n",
    "+----+---------+\n",
    "\n",
    "\n",
    "TableB:\n",
    "\n",
    "+----+---------+\n",
    "| Id |  Data   |\n",
    "+----+---------+\n",
    "|  1 | DataB11 |\n",
    "|  2 | DataB21 |\n",
    "|  2 | DataB22 |\n",
    "|  2 | DataB23 |\n",
    "|  4 | DataB41 |\n",
    "+----+---------+\n",
    "```\n",
    "\n",
    "- Inner Join on column Id will return columns from both the tables and only the matching records:\n",
    "\n",
    "```\n",
    ".----.---------.----.---------.\n",
    "| Id |  Data   | Id |  Data   |\n",
    ":----+---------+----+---------:\n",
    "|  1 | DataA11 |  1 | DataB11 |\n",
    ":----+---------+----+---------:\n",
    "|  1 | DataA12 |  1 | DataB11 |\n",
    ":----+---------+----+---------:\n",
    "|  1 | DataA13 |  1 | DataB11 |\n",
    ":----+---------+----+---------:\n",
    "|  2 | DataA21 |  2 | DataB21 |\n",
    ":----+---------+----+---------:\n",
    "|  2 | DataA21 |  2 | DataB22 |\n",
    ":----+---------+----+---------:\n",
    "|  2 | DataA21 |  2 | DataB23 |\n",
    "'----'---------'----'---------'\n",
    "\n",
    "```\n",
    "\n",
    "- Left Join (or Left Outer join) on column Id will return columns from both the tables and matching records with records from left table (Null values from right table):\n",
    "```\n",
    ".----.---------.----.---------.\n",
    "| Id |  Data   | Id |  Data   |\n",
    ":----+---------+----+---------:\n",
    "|  1 | DataA11 |  1 | DataB11 |\n",
    ":----+---------+----+---------:\n",
    "|  1 | DataA12 |  1 | DataB11 |\n",
    ":----+---------+----+---------:\n",
    "|  1 | DataA13 |  1 | DataB11 |\n",
    ":----+---------+----+---------:\n",
    "|  2 | DataA21 |  2 | DataB21 |\n",
    ":----+---------+----+---------:\n",
    "|  2 | DataA21 |  2 | DataB22 |\n",
    ":----+---------+----+---------:\n",
    "|  2 | DataA21 |  2 | DataB23 |\n",
    ":----+---------+----+---------:\n",
    "|  3 | DataA31 |    |         |\n",
    "'----'---------'----'---------'\n",
    "```\n",
    "\n",
    "- Right Join (or Right Outer join) on column Id will return columns from both the tables and matching records with records from right table (Null values from left table):\n",
    "```\n",
    "┌────┬─────────┬────┬─────────┐\n",
    "│ Id │  Data   │ Id │  Data   │\n",
    "├────┼─────────┼────┼─────────┤\n",
    "│  1 │ DataA11 │  1 │ DataB11 │\n",
    "│  1 │ DataA12 │  1 │ DataB11 │\n",
    "│  1 │ DataA13 │  1 │ DataB11 │\n",
    "│  2 │ DataA21 │  2 │ DataB21 │\n",
    "│  2 │ DataA21 │  2 │ DataB22 │\n",
    "│  2 │ DataA21 │  2 │ DataB23 │\n",
    "│    │         │  4 │ DataB41 │\n",
    "└────┴─────────┴────┴─────────┘\n",
    "```\n",
    "\n",
    "- Full Outer Join on column Id will return columns from both the tables and matching records with records from left table (Null values from right table) and records from right table (Null values from left table):\n",
    "```\n",
    "╔════╦═════════╦════╦═════════╗\n",
    "║ Id ║  Data   ║ Id ║  Data   ║\n",
    "╠════╬═════════╬════╬═════════╣\n",
    "║  - ║         ║    ║         ║\n",
    "║  1 ║ DataA11 ║  1 ║ DataB11 ║\n",
    "║  1 ║ DataA12 ║  1 ║ DataB11 ║\n",
    "║  1 ║ DataA13 ║  1 ║ DataB11 ║\n",
    "║  2 ║ DataA21 ║  2 ║ DataB21 ║\n",
    "║  2 ║ DataA21 ║  2 ║ DataB22 ║\n",
    "║  2 ║ DataA21 ║  2 ║ DataB23 ║\n",
    "║  3 ║ DataA31 ║    ║         ║\n",
    "║    ║         ║  4 ║ DataB41 ║\n",
    "╚════╩═════════╩════╩═════════╝\n",
    "```\n",
    "\n",
    "- Left Semi Join on column Id will return columns only from left table and matching records only from left table. If there are multiple matching rows in the right-hand column, it will only return the rows from the left table, regardless of the number of matching rows on the right side.\n",
    "```\n",
    "┌────┬─────────┐\n",
    "│ Id │  Data   │\n",
    "├────┼─────────┤\n",
    "│  1 │ DataA11 │\n",
    "│  1 │ DataA12 │\n",
    "│  1 │ DataA13 │\n",
    "│  2 │ DataA21 │\n",
    "└────┴─────────┘\n",
    "\n",
    "```"
   ]
  },
  {
   "cell_type": "code",
   "execution_count": 0,
   "metadata": {
    "application/vnd.databricks.v1+cell": {
     "cellMetadata": {},
     "inputWidgets": {},
     "nuid": "684b5307-1363-4e52-9696-b91a27ae627e",
     "showTitle": false,
     "tableResultSettingsMap": {},
     "title": ""
    }
   },
   "outputs": [],
   "source": []
  }
 ],
 "metadata": {
  "application/vnd.databricks.v1+notebook": {
   "computePreferences": null,
   "dashboards": [],
   "environmentMetadata": {
    "base_environment": "",
    "environment_version": "2"
   },
   "language": "sql",
   "notebookMetadata": {
    "pythonIndentUnit": 4
   },
   "notebookName": "demo_sql",
   "widgets": {}
  },
  "language_info": {
   "name": "sql"
  }
 },
 "nbformat": 4,
 "nbformat_minor": 0
}
