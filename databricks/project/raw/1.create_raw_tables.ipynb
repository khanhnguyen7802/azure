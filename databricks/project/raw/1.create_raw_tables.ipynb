{
 "cells": [
  {
   "cell_type": "code",
   "execution_count": 0,
   "metadata": {
    "application/vnd.databricks.v1+cell": {
     "cellMetadata": {},
     "inputWidgets": {},
     "nuid": "fa9a8ffb-d39c-40f5-88d3-819fa803a94e",
     "showTitle": false,
     "tableResultSettingsMap": {},
     "title": ""
    }
   },
   "outputs": [],
   "source": [
    "CREATE DATABASE IF NOT EXISTS f1_raw; "
   ]
  },
  {
   "cell_type": "markdown",
   "metadata": {
    "application/vnd.databricks.v1+cell": {
     "cellMetadata": {},
     "inputWidgets": {},
     "nuid": "cca04044-88f8-414f-bf1b-8878d427c1d8",
     "showTitle": false,
     "tableResultSettingsMap": {},
     "title": ""
    }
   },
   "source": [
    "### Create circuits table"
   ]
  },
  {
   "cell_type": "code",
   "execution_count": 0,
   "metadata": {
    "application/vnd.databricks.v1+cell": {
     "cellMetadata": {},
     "inputWidgets": {},
     "nuid": "e13b6c39-2c5e-47a6-ac77-18a8af1b1b7d",
     "showTitle": false,
     "tableResultSettingsMap": {},
     "title": ""
    }
   },
   "outputs": [],
   "source": [
    "DROP TABLE IF EXISTS f1_raw_circuits;\n",
    "CREATE TABLE IF NOT EXISTS f1_raw_circuits\n",
    "(\n",
    "  circuitId INT,\n",
    "  name STRING,\n",
    "  location STRING,\n",
    "  country STRING,\n",
    "  lat DOUBLE,\n",
    "  lng DOUBLE,\n",
    "  alt INT,\n",
    "  url STRING\n",
    ")\n",
    "USING CSV\n",
    "OPTIONS (path \"/mnt/formula1in2025/raw/circuits.csv\", header True)"
   ]
  },
  {
   "cell_type": "code",
   "execution_count": 0,
   "metadata": {
    "application/vnd.databricks.v1+cell": {
     "cellMetadata": {},
     "inputWidgets": {},
     "nuid": "463cf5d5-6af9-4075-aa85-927b4bf211ac",
     "showTitle": false,
     "tableResultSettingsMap": {},
     "title": ""
    }
   },
   "outputs": [],
   "source": [
    "SELECT * \n",
    "FROM f1_raw_circuits"
   ]
  },
  {
   "cell_type": "markdown",
   "metadata": {
    "application/vnd.databricks.v1+cell": {
     "cellMetadata": {},
     "inputWidgets": {},
     "nuid": "9795591f-035f-446d-91c5-765be3a5eb3c",
     "showTitle": false,
     "tableResultSettingsMap": {},
     "title": ""
    }
   },
   "source": [
    "### Create races table"
   ]
  },
  {
   "cell_type": "code",
   "execution_count": 0,
   "metadata": {
    "application/vnd.databricks.v1+cell": {
     "cellMetadata": {},
     "inputWidgets": {},
     "nuid": "d0d413bc-4754-4423-90bb-dc2ece1387a8",
     "showTitle": false,
     "tableResultSettingsMap": {},
     "title": ""
    }
   },
   "outputs": [],
   "source": [
    "DROP TABLE IF EXISTS f1_raw_races;\n",
    "CREATE TABLE IF NOT EXISTS f1_raw_races\n",
    "(\n",
    "  raceId INT,\n",
    "  year INT,\n",
    "  round INT, \n",
    "  circuitId INT, \n",
    "  name STRING,\n",
    "  date DATE, \n",
    "  time STRING, \n",
    "  url STRING\n",
    ")\n",
    "USING CSV\n",
    "OPTIONS (path \"/mnt/formula1in2025/raw/races.csv\", header True)"
   ]
  },
  {
   "cell_type": "code",
   "execution_count": 0,
   "metadata": {
    "application/vnd.databricks.v1+cell": {
     "cellMetadata": {},
     "inputWidgets": {},
     "nuid": "05ba2f24-55c3-47f6-9735-a7d4af13d5c7",
     "showTitle": false,
     "tableResultSettingsMap": {},
     "title": ""
    }
   },
   "outputs": [],
   "source": [
    "SELECT * \n",
    "FROM f1_raw_races"
   ]
  },
  {
   "cell_type": "markdown",
   "metadata": {
    "application/vnd.databricks.v1+cell": {
     "cellMetadata": {},
     "inputWidgets": {},
     "nuid": "259b9691-312f-4712-b3e8-735bca39a29a",
     "showTitle": false,
     "tableResultSettingsMap": {},
     "title": ""
    }
   },
   "source": [
    "### Create tables from JSON files"
   ]
  },
  {
   "cell_type": "markdown",
   "metadata": {
    "application/vnd.databricks.v1+cell": {
     "cellMetadata": {},
     "inputWidgets": {},
     "nuid": "1a6f393a-7b05-4d67-9dec-6965e82ec2e7",
     "showTitle": false,
     "tableResultSettingsMap": {},
     "title": ""
    }
   },
   "source": [
    "#### Create constructors table"
   ]
  },
  {
   "cell_type": "code",
   "execution_count": 0,
   "metadata": {
    "application/vnd.databricks.v1+cell": {
     "cellMetadata": {},
     "inputWidgets": {},
     "nuid": "6bc1017f-ec24-4c8c-8caf-ec47d9854acf",
     "showTitle": false,
     "tableResultSettingsMap": {},
     "title": ""
    }
   },
   "outputs": [],
   "source": [
    "DROP TABLE IF EXISTS f1_raw_constructors;\n",
    "CREATE TABLE IF NOT EXISTS f1_raw_constructors\n",
    "(\n",
    "  constructorId INT,\n",
    "  constructorRef STRING, \n",
    "  name STRING,\n",
    "  nationality STRING, \n",
    "  url STRING\n",
    ")\n",
    "USING json\n",
    "OPTIONS (path \"/mnt/formula1in2025/raw/constructors.json\")"
   ]
  },
  {
   "cell_type": "code",
   "execution_count": 0,
   "metadata": {
    "application/vnd.databricks.v1+cell": {
     "cellMetadata": {},
     "inputWidgets": {},
     "nuid": "6e057f92-e9ff-4576-90c8-ec21f01774f3",
     "showTitle": false,
     "tableResultSettingsMap": {},
     "title": ""
    }
   },
   "outputs": [],
   "source": [
    "SELECT * \n",
    "FROM f1_raw_constructors"
   ]
  },
  {
   "cell_type": "markdown",
   "metadata": {
    "application/vnd.databricks.v1+cell": {
     "cellMetadata": {},
     "inputWidgets": {},
     "nuid": "8070ecb8-546c-40c0-9f58-cce543b80ad3",
     "showTitle": false,
     "tableResultSettingsMap": {},
     "title": ""
    }
   },
   "source": [
    "#### Create drivers table"
   ]
  },
  {
   "cell_type": "code",
   "execution_count": 0,
   "metadata": {
    "application/vnd.databricks.v1+cell": {
     "cellMetadata": {},
     "inputWidgets": {},
     "nuid": "e9737640-9501-456d-a66b-83699b598514",
     "showTitle": false,
     "tableResultSettingsMap": {},
     "title": ""
    }
   },
   "outputs": [],
   "source": [
    "DROP TABLE IF EXISTS f1_raw_drivers;\n",
    "CREATE TABLE IF NOT EXISTS f1_raw_drivers\n",
    "(\n",
    "  driverId INT,\n",
    "  driverRef STRING, \n",
    "  number INT,\n",
    "  code STRING,\n",
    "  name STRUCT<forename: STRING, surname: STRING>, -- specify the data type\n",
    "  dob DATE, \n",
    "  nationality STRING, \n",
    "  url STRING,\n",
    ")\n",
    "USING json\n",
    "OPTIONS (path \"/mnt/formula1in2025/raw/drivers.son\")"
   ]
  },
  {
   "cell_type": "code",
   "execution_count": 0,
   "metadata": {
    "application/vnd.databricks.v1+cell": {
     "cellMetadata": {},
     "inputWidgets": {},
     "nuid": "7c685f8a-9a3b-4270-998b-dc925b4976fa",
     "showTitle": false,
     "tableResultSettingsMap": {},
     "title": ""
    }
   },
   "outputs": [],
   "source": []
  },
  {
   "cell_type": "code",
   "execution_count": 0,
   "metadata": {
    "application/vnd.databricks.v1+cell": {
     "cellMetadata": {},
     "inputWidgets": {},
     "nuid": "da09447c-be24-4452-90c7-ac20615a0a75",
     "showTitle": false,
     "tableResultSettingsMap": {},
     "title": ""
    }
   },
   "outputs": [],
   "source": []
  },
  {
   "cell_type": "markdown",
   "metadata": {
    "application/vnd.databricks.v1+cell": {
     "cellMetadata": {},
     "inputWidgets": {},
     "nuid": "04a81636-df53-4416-afab-13f900da6bdc",
     "showTitle": false,
     "tableResultSettingsMap": {},
     "title": ""
    }
   },
   "source": [
    "#### Create results table"
   ]
  },
  {
   "cell_type": "code",
   "execution_count": 0,
   "metadata": {
    "application/vnd.databricks.v1+cell": {
     "cellMetadata": {},
     "inputWidgets": {},
     "nuid": "9caa2355-af70-449f-b550-6de3263025d5",
     "showTitle": false,
     "tableResultSettingsMap": {},
     "title": ""
    }
   },
   "outputs": [],
   "source": [
    "DROP TABLE IF EXISTS f1_raw_results;\n",
    "CREATE TABLE IF NOT EXISTS f1_raw_results\n",
    "(\n",
    "  resultId INT,\n",
    "  raceId STRING, \n",
    "  driverId INT,\n",
    "  constructorId INT,\n",
    "  number INT,\n",
    "  grid INT,\n",
    "  position INT,\n",
    "  positionText STRING,\n",
    "  positionOrder INT,\n",
    "  points INT,\n",
    "  laps INT,\n",
    "  time STRING,\n",
    "  milliseconds INT,\n",
    "  fastestLap INT,\n",
    "  rank INT,\n",
    "  fastestLapTime STRING,\n",
    "  fastestLapSpeed FLOAT,\n",
    "  statusId STRING\n",
    ")\n",
    "USING json\n",
    "OPTIONS (path \"/mnt/formula1in2025/raw/results.son\")"
   ]
  },
  {
   "cell_type": "code",
   "execution_count": 0,
   "metadata": {
    "application/vnd.databricks.v1+cell": {
     "cellMetadata": {},
     "inputWidgets": {},
     "nuid": "a3b62111-3561-4c0a-8418-ac174b7b8a1c",
     "showTitle": false,
     "tableResultSettingsMap": {},
     "title": ""
    }
   },
   "outputs": [],
   "source": [
    "SELECT * \n",
    "FROM f1_raw_drivers"
   ]
  },
  {
   "cell_type": "markdown",
   "metadata": {
    "application/vnd.databricks.v1+cell": {
     "cellMetadata": {},
     "inputWidgets": {},
     "nuid": "2ad8730d-fecc-4148-a771-99feb96b52a9",
     "showTitle": false,
     "tableResultSettingsMap": {},
     "title": ""
    }
   },
   "source": [
    "#### Create pit stops table (JSON file with multiple lines)"
   ]
  },
  {
   "cell_type": "code",
   "execution_count": 0,
   "metadata": {
    "application/vnd.databricks.v1+cell": {
     "cellMetadata": {},
     "inputWidgets": {},
     "nuid": "a97370ae-1147-4bc3-92b5-4a6a92ea4fd5",
     "showTitle": false,
     "tableResultSettingsMap": {},
     "title": ""
    }
   },
   "outputs": [],
   "source": [
    "DROP TABLE IF EXISTS f1_raw_pit_stops;\n",
    "CREATE TABLE IF NOT EXISTS f1_raw_pit_stops\n",
    "(\n",
    "  driverId INT,\n",
    "  duration STRING, \n",
    "  lap INT,\n",
    "  milliseconds INT,\n",
    "  raceId INT, \n",
    "  stop INT,\n",
    "  time STRING\n",
    ")\n",
    "USING json\n",
    "OPTIONS (path \"/mnt/formula1in2025/raw/pit_stops.son\", multiline True)"
   ]
  },
  {
   "cell_type": "code",
   "execution_count": 0,
   "metadata": {
    "application/vnd.databricks.v1+cell": {
     "cellMetadata": {},
     "inputWidgets": {},
     "nuid": "bd3d77d9-1708-4de7-8703-0873f4564bc1",
     "showTitle": false,
     "tableResultSettingsMap": {},
     "title": ""
    }
   },
   "outputs": [],
   "source": [
    "SELECT * \n",
    "FROM f1_raw_pit_stops"
   ]
  },
  {
   "cell_type": "markdown",
   "metadata": {
    "application/vnd.databricks.v1+cell": {
     "cellMetadata": {},
     "inputWidgets": {},
     "nuid": "4274aace-b34b-4d55-9c65-f8f7c44e5578",
     "showTitle": false,
     "tableResultSettingsMap": {},
     "title": ""
    }
   },
   "source": [
    "#### Create lap times table (folder contains multiple files)"
   ]
  },
  {
   "cell_type": "code",
   "execution_count": 0,
   "metadata": {
    "application/vnd.databricks.v1+cell": {
     "cellMetadata": {},
     "inputWidgets": {},
     "nuid": "47476e00-0c1c-4ea4-9e53-eb3cbca7d496",
     "showTitle": false,
     "tableResultSettingsMap": {},
     "title": ""
    }
   },
   "outputs": [],
   "source": [
    "DROP TABLE IF EXISTS f1_raw_lap_times;\n",
    "CREATE TABLE IF NOT EXISTS f1_raw_lap_times\n",
    "(\n",
    "  raceId INT,\n",
    "  driverId INT,\n",
    "  lap INT,\n",
    "  milliseconds INT,\n",
    "  position INT,\n",
    "  time STRING\n",
    ")\n",
    "USING json\n",
    "OPTIONS (path \"/mnt/formula1in2025/raw/lap_times\")"
   ]
  },
  {
   "cell_type": "code",
   "execution_count": 0,
   "metadata": {
    "application/vnd.databricks.v1+cell": {
     "cellMetadata": {},
     "inputWidgets": {},
     "nuid": "90516e50-c11f-45f6-837c-36010dca64e9",
     "showTitle": false,
     "tableResultSettingsMap": {},
     "title": ""
    }
   },
   "outputs": [],
   "source": [
    "SELECT COUNT(1) FROM f1_raw_lap_times"
   ]
  },
  {
   "cell_type": "markdown",
   "metadata": {
    "application/vnd.databricks.v1+cell": {
     "cellMetadata": {},
     "inputWidgets": {},
     "nuid": "301c91c3-0712-4e0b-90f7-49da242858f8",
     "showTitle": false,
     "tableResultSettingsMap": {},
     "title": ""
    }
   },
   "source": [
    "#### Create qualifying table"
   ]
  },
  {
   "cell_type": "code",
   "execution_count": 0,
   "metadata": {
    "application/vnd.databricks.v1+cell": {
     "cellMetadata": {},
     "inputWidgets": {},
     "nuid": "43d15ddd-7675-4a65-b4a7-54e0fdcf2ca9",
     "showTitle": false,
     "tableResultSettingsMap": {},
     "title": ""
    }
   },
   "outputs": [],
   "source": [
    "DROP TABLE IF EXISTS f1_raw_qualifying;\n",
    "CREATE TABLE IF NOT EXISTS f1_raw_qualifying\n",
    "(\n",
    "  constructorId INT,\n",
    "  driverId INT, \n",
    "  number INT,\n",
    "  position INT,\n",
    "  q1 STRING,\n",
    "  q2 STRING,\n",
    "  q3 STRING,\n",
    "  qualifyId INT,\n",
    "  raceId INT\n",
    ")\n",
    "USING json\n",
    "OPTIONS (path \"/mnt/formula1in2025/raw/qualifying\", multiline True)"
   ]
  },
  {
   "cell_type": "code",
   "execution_count": 0,
   "metadata": {
    "application/vnd.databricks.v1+cell": {
     "cellMetadata": {},
     "inputWidgets": {},
     "nuid": "2243453b-dd10-447a-a479-dd3f9b71b0cf",
     "showTitle": false,
     "tableResultSettingsMap": {},
     "title": ""
    }
   },
   "outputs": [],
   "source": [
    "SELECT COUNT(1) FROM f1_raw_qualifying"
   ]
  },
  {
   "cell_type": "code",
   "execution_count": 0,
   "metadata": {
    "application/vnd.databricks.v1+cell": {
     "cellMetadata": {},
     "inputWidgets": {},
     "nuid": "ac408e9f-94d0-4fa6-82dc-cadbce965cfa",
     "showTitle": false,
     "tableResultSettingsMap": {},
     "title": ""
    }
   },
   "outputs": [],
   "source": []
  },
  {
   "cell_type": "code",
   "execution_count": 0,
   "metadata": {
    "application/vnd.databricks.v1+cell": {
     "cellMetadata": {},
     "inputWidgets": {},
     "nuid": "2c67e7f0-98fd-4c13-a265-272a6a0aef87",
     "showTitle": false,
     "tableResultSettingsMap": {},
     "title": ""
    }
   },
   "outputs": [],
   "source": []
  },
  {
   "cell_type": "code",
   "execution_count": 0,
   "metadata": {
    "application/vnd.databricks.v1+cell": {
     "cellMetadata": {},
     "inputWidgets": {},
     "nuid": "99d933a6-55c2-4117-9d49-05921e1a61ee",
     "showTitle": false,
     "tableResultSettingsMap": {},
     "title": ""
    }
   },
   "outputs": [],
   "source": []
  },
  {
   "cell_type": "code",
   "execution_count": 0,
   "metadata": {
    "application/vnd.databricks.v1+cell": {
     "cellMetadata": {},
     "inputWidgets": {},
     "nuid": "9ed983a7-dbfa-4939-93dc-051e8300b95b",
     "showTitle": false,
     "tableResultSettingsMap": {},
     "title": ""
    }
   },
   "outputs": [],
   "source": []
  },
  {
   "cell_type": "code",
   "execution_count": 0,
   "metadata": {
    "application/vnd.databricks.v1+cell": {
     "cellMetadata": {},
     "inputWidgets": {},
     "nuid": "4f629982-4809-40f6-884e-76013fab5825",
     "showTitle": false,
     "tableResultSettingsMap": {},
     "title": ""
    }
   },
   "outputs": [],
   "source": []
  }
 ],
 "metadata": {
  "application/vnd.databricks.v1+notebook": {
   "computePreferences": null,
   "dashboards": [],
   "environmentMetadata": {
    "base_environment": "",
    "environment_version": "2"
   },
   "language": "sql",
   "notebookMetadata": {
    "pythonIndentUnit": 4
   },
   "notebookName": "1.create_raw_tables",
   "widgets": {}
  },
  "language_info": {
   "name": "sql"
  }
 },
 "nbformat": 4,
 "nbformat_minor": 0
}
