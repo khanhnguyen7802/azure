{
 "cells": [
  {
   "cell_type": "code",
   "execution_count": 0,
   "metadata": {
    "application/vnd.databricks.v1+cell": {
     "cellMetadata": {
      "byteLimit": 2048000,
      "rowLimit": 10000
     },
     "inputWidgets": {},
     "nuid": "eeb1bb65-577b-4bc3-831a-8ace38aebc78",
     "showTitle": false,
     "tableResultSettingsMap": {},
     "title": ""
    }
   },
   "outputs": [],
   "source": [
    "%run \"../0.includes/configuration\""
   ]
  },
  {
   "cell_type": "code",
   "execution_count": 0,
   "metadata": {
    "application/vnd.databricks.v1+cell": {
     "cellMetadata": {
      "byteLimit": 2048000,
      "rowLimit": 10000
     },
     "inputWidgets": {},
     "nuid": "850ae448-c6f5-470a-ac4e-353c905a3b9e",
     "showTitle": false,
     "tableResultSettingsMap": {},
     "title": ""
    }
   },
   "outputs": [],
   "source": [
    "%run \"../0.includes/utils\""
   ]
  },
  {
   "cell_type": "markdown",
   "metadata": {
    "application/vnd.databricks.v1+cell": {
     "cellMetadata": {},
     "inputWidgets": {},
     "nuid": "a478a758-a86f-4290-bb2d-d6fb57e223d9",
     "showTitle": false,
     "tableResultSettingsMap": {},
     "title": ""
    }
   },
   "source": [
    "### General constraint check"
   ]
  },
  {
   "cell_type": "code",
   "execution_count": 0,
   "metadata": {
    "application/vnd.databricks.v1+cell": {
     "cellMetadata": {
      "byteLimit": 2048000,
      "implicitDf": true,
      "rowLimit": 10000
     },
     "inputWidgets": {},
     "nuid": "2e70fa83-2cb3-467f-be92-4df093f01f02",
     "showTitle": false,
     "tableResultSettingsMap": {},
     "title": ""
    }
   },
   "outputs": [],
   "source": [
    "%sql\n",
    "SELECT *\n",
    "FROM silver.cleansed_sales\n",
    "WHERE \n",
    "  product_type IS NULL\n",
    "  OR total_revenue < 0                        \n",
    "  OR sale_date IS NULL             "
   ]
  },
  {
   "cell_type": "code",
   "execution_count": 0,
   "metadata": {
    "application/vnd.databricks.v1+cell": {
     "cellMetadata": {
      "byteLimit": 2048000,
      "implicitDf": true,
      "rowLimit": 10000
     },
     "inputWidgets": {},
     "nuid": "5a1e1127-4d95-44f8-bedc-709ed52181f6",
     "showTitle": false,
     "tableResultSettingsMap": {},
     "title": ""
    }
   },
   "outputs": [],
   "source": [
    "%sql\n",
    "SELECT * \n",
    "FROM silver.cleansed_sales"
   ]
  },
  {
   "cell_type": "markdown",
   "metadata": {
    "application/vnd.databricks.v1+cell": {
     "cellMetadata": {},
     "inputWidgets": {},
     "nuid": "56c6ab28-499a-489a-b445-e0f8e7543190",
     "showTitle": false,
     "tableResultSettingsMap": {},
     "title": ""
    }
   },
   "source": [
    "### Create the `dim_product` table"
   ]
  },
  {
   "cell_type": "code",
   "execution_count": 0,
   "metadata": {
    "application/vnd.databricks.v1+cell": {
     "cellMetadata": {
      "byteLimit": 2048000,
      "implicitDf": true,
      "rowLimit": 10000
     },
     "inputWidgets": {},
     "nuid": "7e84a055-4a2b-4790-833c-70a131181204",
     "showTitle": false,
     "tableResultSettingsMap": {},
     "title": ""
    }
   },
   "outputs": [],
   "source": [
    "%sql\n",
    "CREATE TABLE IF NOT EXISTS gold.dim_product (\n",
    "  sku INT NOT NULL,\n",
    "  product_name STRING,\n",
    "  product_type STRING,\n",
    "  description STRING,\n",
    "  category STRING,\n",
    "  price DOUBLE,\n",
    "  starting_date DATE NOT NULL,\n",
    "  ending_date DATE,\n",
    "  activate BOOLEAN NOT NULL\n",
    ") USING DELTA;\n"
   ]
  },
  {
   "cell_type": "code",
   "execution_count": 0,
   "metadata": {
    "application/vnd.databricks.v1+cell": {
     "cellMetadata": {
      "byteLimit": 2048000,
      "implicitDf": true,
      "rowLimit": 10000
     },
     "inputWidgets": {},
     "nuid": "77e8fe06-d344-43f9-be54-8c63c93da5f5",
     "showTitle": false,
     "tableResultSettingsMap": {},
     "title": ""
    }
   },
   "outputs": [],
   "source": [
    "%sql \n",
    "SELECT * \n",
    "FROM gold.dim_product"
   ]
  },
  {
   "cell_type": "markdown",
   "metadata": {
    "application/vnd.databricks.v1+cell": {
     "cellMetadata": {},
     "inputWidgets": {},
     "nuid": "ca324e4e-a3f2-46b9-83d1-615eb0816bc5",
     "showTitle": false,
     "tableResultSettingsMap": {},
     "title": ""
    }
   },
   "source": [
    "### Create the `fact_daily_sales`"
   ]
  },
  {
   "cell_type": "code",
   "execution_count": 0,
   "metadata": {
    "application/vnd.databricks.v1+cell": {
     "cellMetadata": {
      "byteLimit": 2048000,
      "implicitDf": true,
      "rowLimit": 10000
     },
     "inputWidgets": {},
     "nuid": "31c3e051-0786-4cf2-83c5-5e2d7b24d938",
     "showTitle": false,
     "tableResultSettingsMap": {},
     "title": ""
    }
   },
   "outputs": [],
   "source": [
    "%sql\n",
    "DROP TABLE IF EXISTS gold.fact_daily_sales;\n",
    "\n",
    "CREATE TABLE IF NOT EXISTS gold.fact_daily_sales (\n",
    "  sale_date DATE,\n",
    "  sku INT NOT NULL,\n",
    "  transaction_price DOUBLE,\n",
    "  sold INT, \n",
    "  total_revenue DOUBLE\n",
    ") USING DELTA;"
   ]
  },
  {
   "cell_type": "code",
   "execution_count": 0,
   "metadata": {
    "application/vnd.databricks.v1+cell": {
     "cellMetadata": {
      "byteLimit": 2048000,
      "rowLimit": 10000
     },
     "inputWidgets": {},
     "nuid": "f0d1a5c8-f34e-4613-b29c-e6385b3cf684",
     "showTitle": false,
     "tableResultSettingsMap": {},
     "title": ""
    }
   },
   "outputs": [],
   "source": [
    "# table_name = \"gold.dim_product\"\n",
    "\n",
    "# spark.sql(f\"DROP TABLE IF EXISTS {table_name}\")\n",
    "# dbutils.fs.rm(GOLD_FOLDER_PATH, recurse=True)"
   ]
  },
  {
   "cell_type": "code",
   "execution_count": 0,
   "metadata": {
    "application/vnd.databricks.v1+cell": {
     "cellMetadata": {
      "byteLimit": 2048000,
      "implicitDf": true,
      "rowLimit": 10000
     },
     "inputWidgets": {},
     "nuid": "d97169e8-1802-49cb-909a-521d456b5fe0",
     "showTitle": false,
     "tableResultSettingsMap": {},
     "title": ""
    }
   },
   "outputs": [],
   "source": [
    "%sql \n",
    "SELECT * \n",
    "FROM gold.fact_daily_sales"
   ]
  },
  {
   "cell_type": "code",
   "execution_count": 0,
   "metadata": {
    "application/vnd.databricks.v1+cell": {
     "cellMetadata": {},
     "inputWidgets": {},
     "nuid": "22519d20-e328-4971-b9fd-ee70c4cd78fd",
     "showTitle": false,
     "tableResultSettingsMap": {},
     "title": ""
    }
   },
   "outputs": [],
   "source": []
  },
  {
   "cell_type": "markdown",
   "metadata": {
    "application/vnd.databricks.v1+cell": {
     "cellMetadata": {},
     "inputWidgets": {},
     "nuid": "26289588-05ec-4a84-b453-d00611c81f79",
     "showTitle": false,
     "tableResultSettingsMap": {},
     "title": ""
    }
   },
   "source": [
    "### Create a view that captures info from silver layer on a **given starting date**"
   ]
  },
  {
   "cell_type": "code",
   "execution_count": 0,
   "metadata": {
    "application/vnd.databricks.v1+cell": {
     "cellMetadata": {
      "byteLimit": 2048000,
      "rowLimit": 10000
     },
     "inputWidgets": {},
     "nuid": "a59e69df-467b-407d-82db-d503be508353",
     "showTitle": false,
     "tableResultSettingsMap": {},
     "title": ""
    }
   },
   "outputs": [],
   "source": [
    "processing_sale_date_str = '2025-05-19' # run for the first time\n",
    "\n",
    "# Prepare current day's product attributes from silver.cleansed_sales\n",
    "# We need a consistent view of product attributes for a SKU on a given sale_date.\n",
    "# If a SKU appears multiple times, we pick one.\n",
    "# In this case, we assume the SKU is not duplicated\n",
    "query_stage_silver_products = f\"\"\"\n",
    "        CREATE OR REPLACE TEMPORARY VIEW ViewStagedSilverProductAttributes AS\n",
    "        WITH RankedSilver AS (\n",
    "            SELECT\n",
    "                sku,\n",
    "                name AS product_name, \n",
    "                product_type,         \n",
    "                price,                -- transaction price in that particular day\n",
    "                description,\n",
    "                category,          \n",
    "                sale_date,\n",
    "                1 as rn -- row number (assume records are not duplicated)\n",
    "            FROM silver.cleansed_sales\n",
    "            WHERE sale_date = DATE'{processing_sale_date_str}'\n",
    "        )\n",
    "        SELECT\n",
    "            sku,\n",
    "            product_name,\n",
    "            product_type,\n",
    "            price,      -- representative price for the dim_product\n",
    "            description,\n",
    "            category,\n",
    "            sale_date AS starting_date -- effective date from (in this case i use the sale_date)\n",
    "        FROM RankedSilver\n",
    "        WHERE rn = 1;\n",
    "\n",
    "        \"\"\"\n",
    "spark.sql(query_stage_silver_products)\n",
    "print(\"ViewStagedSilverProductAttributes created for the current processing date.\")\n"
   ]
  },
  {
   "cell_type": "code",
   "execution_count": 0,
   "metadata": {
    "application/vnd.databricks.v1+cell": {
     "cellMetadata": {
      "byteLimit": 2048000,
      "implicitDf": true,
      "rowLimit": 10000
     },
     "inputWidgets": {},
     "nuid": "24f4f788-61b4-49f8-9625-e5ae07949247",
     "showTitle": false,
     "tableResultSettingsMap": {},
     "title": ""
    }
   },
   "outputs": [],
   "source": [
    "%sql\n",
    "SELECT * \n",
    "FROM ViewStagedSilverProductAttributes"
   ]
  },
  {
   "cell_type": "markdown",
   "metadata": {
    "application/vnd.databricks.v1+cell": {
     "cellMetadata": {},
     "inputWidgets": {},
     "nuid": "32c1ed9b-da8c-45c2-bf6f-4cfae7b6d12f",
     "showTitle": false,
     "tableResultSettingsMap": {},
     "title": ""
    }
   },
   "source": [
    "### Merge into predefined `gold.dim_product`\n",
    "If there are changed (or new) records, deactivate the old record, then insert the new one and activate that one  "
   ]
  },
  {
   "cell_type": "code",
   "execution_count": 0,
   "metadata": {
    "application/vnd.databricks.v1+cell": {
     "cellMetadata": {
      "byteLimit": 2048000,
      "rowLimit": 10000
     },
     "inputWidgets": {},
     "nuid": "69cfc512-2d62-4456-a3c7-d1abfad7bcd5",
     "showTitle": false,
     "tableResultSettingsMap": {},
     "title": ""
    }
   },
   "outputs": [],
   "source": [
    "# MERGE into gold.dim_product to handle SCD Type 2\n",
    "# This MERGE will expire old records if attributes change.\n",
    "query_dim_product_scd2_merge = f\"\"\"\n",
    "        MERGE INTO gold.dim_product AS tgt\n",
    "        USING (\n",
    "            SELECT\n",
    "                view.sku,\n",
    "                view.product_name, \n",
    "                view.product_type,\n",
    "                view.price,\n",
    "                view.description,\n",
    "                view.category,\n",
    "                view.starting_date\n",
    "            FROM ViewStagedSilverProductAttributes view\n",
    "        ) AS src\n",
    "        ON tgt.sku = src.sku AND tgt.activate = TRUE\n",
    "\n",
    "        -- SKU exists and is activated. Check if attributes changed.\n",
    "        WHEN MATCHED AND (\n",
    "            tgt.product_name <> src.product_name OR\n",
    "            tgt.product_type <> src.product_type OR\n",
    "            tgt.price <> src.price OR              -- Assuming transaction price from silver drives dim price\n",
    "            tgt.description <> src.description OR \n",
    "            tgt.category <> src.category\n",
    "        )\n",
    "        THEN UPDATE SET\n",
    "            tgt.activate = FALSE,\n",
    "            tgt.ending_date = DATE_SUB(src.starting_date, 1); -- Expire previous day\n",
    "        \"\"\"\n",
    "spark.sql(query_dim_product_scd2_merge)\n",
    "print(\"dim_product MERGE (for expiring old versions) completed.\")\n",
    "\n",
    "\n",
    "# In case the SKU does not match (meaning it's a new product), then\n",
    "# INSERT new products (or new versions) of changed products into gold.dim_product\n",
    "query_dim_product_scd2_insert = f\"\"\"\n",
    "        INSERT INTO gold.dim_product (\n",
    "            sku, product_name, product_type, price, description, category,\n",
    "            starting_date, ending_date, activate\n",
    "        )\n",
    "        SELECT\n",
    "            view.sku,\n",
    "            view.product_name,\n",
    "            view.product_type,\n",
    "            view.price,\n",
    "            view.description,\n",
    "            view.category,\n",
    "            view.starting_date,\n",
    "            DATE'9999-12-31' AS ending_date, -- just random invalid date as a placeholder\n",
    "            TRUE AS activate\n",
    "        FROM ViewStagedSilverProductAttributes view\n",
    "        LEFT JOIN gold.dim_product existing_current_dim\n",
    "            ON view.sku = existing_current_dim.sku AND existing_current_dim.activate = TRUE\n",
    "        WHERE\n",
    "            existing_current_dim.sku IS NULL -- new to dim_product\n",
    "                                            -- or its previous current record was just expired by the MERGE,\n",
    "                                            -- so no 'activate = TRUE' record exists for it now.\n",
    "        ;\n",
    "        \"\"\"\n",
    "spark.sql(query_dim_product_scd2_insert)\n",
    "print(\"Dim_Product INSERT (for new/updated versions) completed.\")\n"
   ]
  },
  {
   "cell_type": "markdown",
   "metadata": {
    "application/vnd.databricks.v1+cell": {
     "cellMetadata": {},
     "inputWidgets": {},
     "nuid": "34b18855-bf69-49b8-afb3-1555da563e0f",
     "showTitle": false,
     "tableResultSettingsMap": {},
     "title": ""
    }
   },
   "source": [
    "### Check if it manages to merge into `dim_product`"
   ]
  },
  {
   "cell_type": "code",
   "execution_count": 0,
   "metadata": {
    "application/vnd.databricks.v1+cell": {
     "cellMetadata": {
      "byteLimit": 2048000,
      "implicitDf": true,
      "rowLimit": 10000
     },
     "inputWidgets": {},
     "nuid": "0af9d6b4-c3d4-4add-b16e-58f7d075fe62",
     "showTitle": false,
     "tableResultSettingsMap": {},
     "title": ""
    }
   },
   "outputs": [],
   "source": [
    "%sql\n",
    "SELECT * \n",
    "FROM gold.dim_product"
   ]
  },
  {
   "cell_type": "markdown",
   "metadata": {
    "application/vnd.databricks.v1+cell": {
     "cellMetadata": {},
     "inputWidgets": {},
     "nuid": "7cdc7049-071c-410c-8945-209e63d161b7",
     "showTitle": false,
     "tableResultSettingsMap": {},
     "title": ""
    }
   },
   "source": [
    "### Insert the data into the `gold.fact_daily_sales`"
   ]
  },
  {
   "cell_type": "code",
   "execution_count": 0,
   "metadata": {
    "application/vnd.databricks.v1+cell": {
     "cellMetadata": {
      "byteLimit": 2048000,
      "rowLimit": 10000
     },
     "inputWidgets": {},
     "nuid": "79c770a2-4165-4ba1-98a8-94f0a220c05d",
     "showTitle": false,
     "tableResultSettingsMap": {},
     "title": ""
    }
   },
   "outputs": [],
   "source": [
    "# Load gold.fact_daily_sales\n",
    "# delete records (if there's any)\n",
    "spark.sql(f\"DELETE FROM gold.fact_daily_sales WHERE sale_date = DATE'{processing_sale_date_str}'\")\n",
    "print(f\"Deleted existing fact records for {processing_sale_date_str} (if any).\")\n",
    "\n",
    "query_fact_sales_insert = f\"\"\"\n",
    "        INSERT INTO gold.fact_daily_sales (\n",
    "            sale_date, \n",
    "            sku, \n",
    "            transaction_price, \n",
    "            sold, \n",
    "            total_revenue\n",
    "        )\n",
    "        SELECT\n",
    "            s.sale_date,\n",
    "            s.sku, \n",
    "            s.price AS transaction_price,\n",
    "            s.sold AS amount_sold,\n",
    "            s.total_revenue\n",
    "        FROM silver.cleansed_sales s\n",
    "        JOIN gold.dim_product dp\n",
    "            ON s.sku = dp.sku\n",
    "            AND s.sale_date >= dp.starting_date  -- Product version was active on or before sale_date\n",
    "            AND s.sale_date <= dp.ending_date    -- Product version was active on or before sale_date\n",
    "        WHERE s.sale_date = DATE'{processing_sale_date_str}'\n",
    "        \"\"\"\n",
    "spark.sql(query_fact_sales_insert)\n",
    "print(\"Fact_Daily_Sales INSERT completed.\")\n"
   ]
  },
  {
   "cell_type": "code",
   "execution_count": 0,
   "metadata": {
    "application/vnd.databricks.v1+cell": {
     "cellMetadata": {
      "byteLimit": 2048000,
      "implicitDf": true,
      "rowLimit": 10000
     },
     "inputWidgets": {},
     "nuid": "4aaf44be-d212-492a-945e-c33e37bb4ad9",
     "showTitle": false,
     "tableResultSettingsMap": {},
     "title": ""
    }
   },
   "outputs": [],
   "source": [
    "%sql\n",
    "SELECT * \n",
    "FROM gold.fact_daily_sales"
   ]
  },
  {
   "cell_type": "code",
   "execution_count": 0,
   "metadata": {
    "application/vnd.databricks.v1+cell": {
     "cellMetadata": {},
     "inputWidgets": {},
     "nuid": "673792a1-8dcd-4b9c-9480-4007e58562f4",
     "showTitle": false,
     "tableResultSettingsMap": {},
     "title": ""
    }
   },
   "outputs": [],
   "source": [
    "# # Clean up temp view\n",
    "# spark.sql(\"DROP VIEW ViewStagedSilverProductAttributes\")\n",
    "# print(\"Temp view dropped.\")"
   ]
  },
  {
   "cell_type": "markdown",
   "metadata": {
    "application/vnd.databricks.v1+cell": {
     "cellMetadata": {},
     "inputWidgets": {},
     "nuid": "0a12135f-195c-4dcd-a135-a9d9ed3c1ee3",
     "showTitle": false,
     "tableResultSettingsMap": {},
     "title": ""
    }
   },
   "source": [
    "### Test updated and run again to see if newly changed records are added"
   ]
  },
  {
   "cell_type": "code",
   "execution_count": 0,
   "metadata": {
    "application/vnd.databricks.v1+cell": {
     "cellMetadata": {
      "byteLimit": 2048000,
      "implicitDf": true,
      "rowLimit": 10000
     },
     "inputWidgets": {},
     "nuid": "fc1f4909-3402-4c5a-9801-b09d438f7942",
     "showTitle": false,
     "tableResultSettingsMap": {},
     "title": ""
    }
   },
   "outputs": [],
   "source": [
    "%sql\n",
    "UPDATE silver.cleansed_sales \n",
    "SET name = 'test cocacola'\n",
    "WHERE sku = 10000"
   ]
  },
  {
   "cell_type": "code",
   "execution_count": 0,
   "metadata": {
    "application/vnd.databricks.v1+cell": {
     "cellMetadata": {},
     "inputWidgets": {},
     "nuid": "aac02d1d-1908-404c-8c80-c92e8fc52b43",
     "showTitle": false,
     "tableResultSettingsMap": {},
     "title": ""
    }
   },
   "outputs": [],
   "source": []
  },
  {
   "cell_type": "code",
   "execution_count": 0,
   "metadata": {
    "application/vnd.databricks.v1+cell": {
     "cellMetadata": {},
     "inputWidgets": {},
     "nuid": "7a9a57d3-fb0e-46ee-8191-8c4c2ea96e60",
     "showTitle": false,
     "tableResultSettingsMap": {},
     "title": ""
    }
   },
   "outputs": [],
   "source": []
  },
  {
   "cell_type": "code",
   "execution_count": 0,
   "metadata": {
    "application/vnd.databricks.v1+cell": {
     "cellMetadata": {},
     "inputWidgets": {},
     "nuid": "4c3685ce-bed2-4538-a616-c10cf86fd216",
     "showTitle": false,
     "tableResultSettingsMap": {},
     "title": ""
    }
   },
   "outputs": [],
   "source": []
  }
 ],
 "metadata": {
  "application/vnd.databricks.v1+notebook": {
   "computePreferences": null,
   "dashboards": [],
   "environmentMetadata": {
    "base_environment": "",
    "environment_version": "2"
   },
   "inputWidgetPreferences": null,
   "language": "python",
   "notebookMetadata": {
    "mostRecentlyExecutedCommandWithImplicitDF": {
     "commandId": 5061933092446203,
     "dataframes": [
      "_sqldf"
     ]
    },
    "pythonIndentUnit": 4
   },
   "notebookName": "create_business_value",
   "widgets": {}
  },
  "language_info": {
   "name": "python"
  }
 },
 "nbformat": 4,
 "nbformat_minor": 0
}
