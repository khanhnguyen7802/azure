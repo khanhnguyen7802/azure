{
 "cells": [
  {
   "cell_type": "code",
   "execution_count": 0,
   "metadata": {
    "application/vnd.databricks.v1+cell": {
     "cellMetadata": {
      "byteLimit": 2048000,
      "rowLimit": 10000
     },
     "inputWidgets": {},
     "nuid": "e7171845-bb60-4695-943c-c94e424a8f30",
     "showTitle": false,
     "tableResultSettingsMap": {},
     "title": ""
    }
   },
   "outputs": [],
   "source": [
    "%run \"../0.includes/configuration\""
   ]
  },
  {
   "cell_type": "code",
   "execution_count": 0,
   "metadata": {
    "application/vnd.databricks.v1+cell": {
     "cellMetadata": {
      "byteLimit": 2048000,
      "rowLimit": 10000
     },
     "inputWidgets": {},
     "nuid": "dcba88fb-b461-4251-a876-c4d4f1dfb915",
     "showTitle": false,
     "tableResultSettingsMap": {},
     "title": ""
    }
   },
   "outputs": [],
   "source": [
    "%run \"../0.includes/utils\""
   ]
  },
  {
   "cell_type": "code",
   "execution_count": 0,
   "metadata": {
    "application/vnd.databricks.v1+cell": {
     "cellMetadata": {
      "byteLimit": 2048000,
      "implicitDf": true,
      "rowLimit": 10000
     },
     "inputWidgets": {},
     "nuid": "a99f314f-935c-4690-a315-b469807e976a",
     "showTitle": false,
     "tableResultSettingsMap": {},
     "title": ""
    }
   },
   "outputs": [],
   "source": [
    "%sql\n",
    "SELECT * \n",
    "FROM bronze.sales"
   ]
  },
  {
   "cell_type": "markdown",
   "metadata": {
    "application/vnd.databricks.v1+cell": {
     "cellMetadata": {},
     "inputWidgets": {},
     "nuid": "1bce4fca-c77a-496b-8013-d8cc52ee0480",
     "showTitle": false,
     "tableResultSettingsMap": {},
     "title": ""
    }
   },
   "source": [
    "### General constraint check"
   ]
  },
  {
   "cell_type": "code",
   "execution_count": 0,
   "metadata": {
    "application/vnd.databricks.v1+cell": {
     "cellMetadata": {},
     "inputWidgets": {},
     "nuid": "7d912e7d-665b-45d8-8a42-a9315a259a08",
     "showTitle": false,
     "tableResultSettingsMap": {},
     "title": ""
    }
   },
   "outputs": [],
   "source": [
    "%sql\n",
    "SELECT *\n",
    "FROM bronze.sales\n",
    "WHERE \n",
    "  sku IS NULL                        \n",
    "  OR price < 0                           \n",
    "  OR sold < 0                            -- range check\n",
    "  OR LENGTH(name) = 0                    -- empty name\n",
    "  OR price IS NULL\n"
   ]
  },
  {
   "cell_type": "markdown",
   "metadata": {
    "application/vnd.databricks.v1+cell": {
     "cellMetadata": {
      "byteLimit": 2048000,
      "rowLimit": 10000
     },
     "inputWidgets": {},
     "nuid": "4f684568-9706-4b02-8937-d804672d7930",
     "showTitle": false,
     "tableResultSettingsMap": {},
     "title": ""
    }
   },
   "source": [
    "### Check if there is any duplicate row "
   ]
  },
  {
   "cell_type": "code",
   "execution_count": 0,
   "metadata": {
    "application/vnd.databricks.v1+cell": {
     "cellMetadata": {
      "byteLimit": 2048000,
      "implicitDf": true,
      "rowLimit": 10000
     },
     "inputWidgets": {},
     "nuid": "492e62bc-8cd0-4707-a918-ccdb47580f50",
     "showTitle": false,
     "tableResultSettingsMap": {},
     "title": ""
    }
   },
   "outputs": [],
   "source": [
    "%sql \n",
    "SELECT sku, COUNT(*) \n",
    "FROM bronze.sales \n",
    "GROUP BY sku \n",
    "HAVING COUNT(*) > 1\n",
    " \n",
    "-- # sales_df = spark.read.format(\"delta\").load(f\"{BRONZE_FOLDER_PATH}/sales\").dropDuplicates([\"sku\"])\n",
    "-- # display(sales_df)\n"
   ]
  },
  {
   "cell_type": "markdown",
   "metadata": {
    "application/vnd.databricks.v1+cell": {
     "cellMetadata": {
      "byteLimit": 2048000,
      "rowLimit": 10000
     },
     "inputWidgets": {},
     "nuid": "e224346e-c814-45aa-b5ca-948b722804df",
     "showTitle": false,
     "tableResultSettingsMap": {},
     "title": ""
    }
   },
   "source": [
    "### List all categories to replace the description"
   ]
  },
  {
   "cell_type": "code",
   "execution_count": 0,
   "metadata": {
    "application/vnd.databricks.v1+cell": {
     "cellMetadata": {
      "byteLimit": 2048000,
      "implicitDf": true,
      "rowLimit": 10000
     },
     "inputWidgets": {},
     "nuid": "25b2137f-180e-4523-aa9f-2e0063abaa61",
     "showTitle": false,
     "tableResultSettingsMap": {},
     "title": ""
    }
   },
   "outputs": [],
   "source": [
    "%sql\n",
    "SELECT DISTINCT category \n",
    "FROM bronze.sales"
   ]
  },
  {
   "cell_type": "code",
   "execution_count": 0,
   "metadata": {
    "application/vnd.databricks.v1+cell": {
     "cellMetadata": {
      "byteLimit": 2048000,
      "implicitDf": true,
      "rowLimit": 10000
     },
     "inputWidgets": {},
     "nuid": "0de63317-69e9-4370-abba-e0da9d928da5",
     "showTitle": false,
     "tableResultSettingsMap": {},
     "title": ""
    }
   },
   "outputs": [],
   "source": [
    "%sql\n",
    "SELECT\n",
    "  name AS product_name,\n",
    "  CASE \n",
    "    WHEN category = 'Bakery' \n",
    "      THEN TRIM(REPLACE(description, ' - A high quality and popular choice.', ' yummy bread'))\n",
    "    WHEN category = 'Pantry' \n",
    "      THEN TRIM(REPLACE(description, ' - A high quality and popular choice.', ' tasty pasta'))\n",
    "    WHEN category = 'Meat' \n",
    "      THEN TRIM(REPLACE(description, ' - A high quality and popular choice.', ' juicy meat'))\n",
    "    WHEN category = 'Condiments' \n",
    "      THEN TRIM(REPLACE(description, ' - A high quality and popular choice.', ' extra taste'))\n",
    "    WHEN category = 'Beverages' \n",
    "      THEN TRIM(REPLACE(description, ' - A high quality and popular choice.', ' fizzy drinks'))\n",
    "    WHEN category = 'Dairy' \n",
    "      THEN TRIM(REPLACE(description, ' - A high quality and popular choice.', ' creamy cheese'))\n",
    "    WHEN category = 'Frozen'\n",
    "      THEN TRIM(REPLACE(description, ' - A high quality and popular choice.', ' frozen food')) \n",
    "    WHEN category = 'Produce'\n",
    "      THEN TRIM(REPLACE(description, ' - A high quality and popular choice.', ' fresh fruits'))\n",
    "    WHEN category = 'Snacks'\n",
    "      THEN TRIM(REPLACE(description, ' - A high quality and popular choice.', ' crunchy snacks'))\n",
    "  END AS updated_description\n",
    "FROM bronze.sales;\n"
   ]
  },
  {
   "cell_type": "markdown",
   "metadata": {
    "application/vnd.databricks.v1+cell": {
     "cellMetadata": {
      "byteLimit": 2048000,
      "rowLimit": 10000
     },
     "inputWidgets": {},
     "nuid": "c128382c-f6b9-42da-97df-01fd3843ee95",
     "showTitle": false,
     "tableResultSettingsMap": {},
     "title": ""
    }
   },
   "source": [
    "### Adjust the `name` column"
   ]
  },
  {
   "cell_type": "code",
   "execution_count": 0,
   "metadata": {
    "application/vnd.databricks.v1+cell": {
     "cellMetadata": {
      "byteLimit": 2048000,
      "implicitDf": true,
      "rowLimit": 10000
     },
     "inputWidgets": {},
     "nuid": "1f9a47c3-0840-4687-a0b1-3ca9c5f90189",
     "showTitle": false,
     "tableResultSettingsMap": {},
     "title": ""
    }
   },
   "outputs": [],
   "source": [
    "%sql\n",
    "SELECT\n",
    "  name,\n",
    "  CASE\n",
    "    WHEN regexp_replace(name, '[^0-9]', '') = '' THEN '0'\n",
    "    ELSE regexp_replace(name, '[^0-9 ]', '')\n",
    "  END AS product_type, \n",
    "  regexp_replace(name, '[0-9]', '') AS updated_name\n",
    "FROM bronze.sales;\n"
   ]
  },
  {
   "cell_type": "markdown",
   "metadata": {
    "application/vnd.databricks.v1+cell": {
     "cellMetadata": {
      "byteLimit": 2048000,
      "rowLimit": 10000
     },
     "inputWidgets": {},
     "nuid": "ee6fe895-c851-4cb7-8b71-bff77a8d1657",
     "showTitle": false,
     "tableResultSettingsMap": {},
     "title": ""
    }
   },
   "source": [
    "### Add the `total_revenue` column for each `record`"
   ]
  },
  {
   "cell_type": "code",
   "execution_count": 0,
   "metadata": {
    "application/vnd.databricks.v1+cell": {
     "cellMetadata": {
      "byteLimit": 2048000,
      "implicitDf": true,
      "rowLimit": 10000
     },
     "inputWidgets": {},
     "nuid": "1f723f15-3344-44e1-b839-1bfa69488569",
     "showTitle": false,
     "tableResultSettingsMap": {},
     "title": ""
    }
   },
   "outputs": [],
   "source": [
    "%sql \n",
    "SELECT \n",
    "  name, \n",
    "  price, \n",
    "  sold,\n",
    "  round(price * sold, 2) AS total_revenue\n",
    "FROM bronze.sales"
   ]
  },
  {
   "cell_type": "markdown",
   "metadata": {
    "application/vnd.databricks.v1+cell": {
     "cellMetadata": {
      "byteLimit": 2048000,
      "rowLimit": 10000
     },
     "inputWidgets": {},
     "nuid": "58bdcb31-409a-4891-853f-79a9a091ec61",
     "showTitle": false,
     "tableResultSettingsMap": {},
     "title": ""
    }
   },
   "source": [
    "### Combine all cleansed data"
   ]
  },
  {
   "cell_type": "code",
   "execution_count": 0,
   "metadata": {
    "application/vnd.databricks.v1+cell": {
     "cellMetadata": {
      "byteLimit": 2048000,
      "implicitDf": true,
      "rowLimit": 10000
     },
     "inputWidgets": {},
     "nuid": "1418c3e3-29d2-4982-a35d-91d2246d913f",
     "showTitle": false,
     "tableResultSettingsMap": {},
     "title": ""
    }
   },
   "outputs": [],
   "source": [
    "%sql \n",
    "SELECT\n",
    "  sku, \n",
    "  category, \n",
    "  regexp_replace(name, '[0-9]', '') AS name,\n",
    "  CASE\n",
    "    WHEN regexp_replace(name, '[^0-9]', '') = '' THEN '0'\n",
    "    ELSE TRIM(regexp_replace(name, '[^0-9 ]', ''))\n",
    "  END AS product_type,\n",
    "  price, \n",
    "  sold,\n",
    "  round(price * sold, 2) AS total_revenue, \n",
    "  CASE \n",
    "    WHEN category = 'Bakery' \n",
    "      THEN TRIM(REPLACE(description, ' - A high quality and popular choice.', ' yummy bread'))\n",
    "    WHEN category = 'Pantry' \n",
    "      THEN TRIM(REPLACE(description, ' - A high quality and popular choice.', ' tasty pasta'))\n",
    "    WHEN category = 'Meat' \n",
    "      THEN TRIM(REPLACE(description, ' - A high quality and popular choice.', ' juicy meat'))\n",
    "    WHEN category = 'Condiments' \n",
    "      THEN TRIM(REPLACE(description, ' - A high quality and popular choice.', ' extra taste'))\n",
    "    WHEN category = 'Beverages' \n",
    "      THEN TRIM(REPLACE(description, ' - A high quality and popular choice.', ' fizzy drinks'))\n",
    "    WHEN category = 'Dairy' \n",
    "      THEN TRIM(REPLACE(description, ' - A high quality and popular choice.', ' creamy cheese'))\n",
    "    WHEN category = 'Frozen'\n",
    "      THEN TRIM(REPLACE(description, ' - A high quality and popular choice.', ' frozen food')) \n",
    "    WHEN category = 'Produce'\n",
    "      THEN TRIM(REPLACE(description, ' - A high quality and popular choice.', ' fresh fruits'))\n",
    "    WHEN category = 'Snacks'\n",
    "      THEN TRIM(REPLACE(description, ' - A high quality and popular choice.', ' crunchy snacks'))\n",
    "  END AS description, \n",
    "  date_trunc('day', from_utc_timestamp(current_timestamp(), 'Europe/Amsterdam')) AS sale_date\n",
    "FROM bronze.sales;\n"
   ]
  },
  {
   "cell_type": "code",
   "execution_count": 0,
   "metadata": {
    "application/vnd.databricks.v1+cell": {
     "cellMetadata": {
      "byteLimit": 2048000,
      "implicitDf": true,
      "rowLimit": 10000
     },
     "inputWidgets": {},
     "nuid": "ed11aa29-c3a2-4163-88d7-9a32aac3025d",
     "showTitle": false,
     "tableResultSettingsMap": {},
     "title": ""
    }
   },
   "outputs": [],
   "source": [
    "%sql\n",
    "SHOW DATABASES"
   ]
  },
  {
   "cell_type": "markdown",
   "metadata": {
    "application/vnd.databricks.v1+cell": {
     "cellMetadata": {
      "byteLimit": 2048000,
      "rowLimit": 10000
     },
     "inputWidgets": {},
     "nuid": "1eb25bb2-a064-480a-946a-7c62d26139c9",
     "showTitle": false,
     "tableResultSettingsMap": {},
     "title": ""
    }
   },
   "source": [
    "### Drop table (if needed)"
   ]
  },
  {
   "cell_type": "code",
   "execution_count": 0,
   "metadata": {
    "application/vnd.databricks.v1+cell": {
     "cellMetadata": {
      "byteLimit": 2048000,
      "rowLimit": 10000
     },
     "inputWidgets": {},
     "nuid": "9cebd4a9-ced3-4dbd-b515-9849b5d4d804",
     "showTitle": false,
     "tableResultSettingsMap": {},
     "title": ""
    }
   },
   "outputs": [],
   "source": [
    "# table_name = \"silver.cleansed_sales\"\n",
    "\n",
    "# spark.sql(f\"DROP TABLE IF EXISTS {table_name}\")\n",
    "# dbutils.fs.rm(SILVER_FOLDER_PATH, recurse=True)"
   ]
  },
  {
   "cell_type": "markdown",
   "metadata": {
    "application/vnd.databricks.v1+cell": {
     "cellMetadata": {
      "byteLimit": 2048000,
      "rowLimit": 10000
     },
     "inputWidgets": {},
     "nuid": "cb39b6e6-4610-44f8-acdf-dc94c4e077f1",
     "showTitle": false,
     "tableResultSettingsMap": {},
     "title": ""
    }
   },
   "source": [
    "### INSERT INTO THE SILVER LAYER"
   ]
  },
  {
   "cell_type": "code",
   "execution_count": 0,
   "metadata": {
    "application/vnd.databricks.v1+cell": {
     "cellMetadata": {
      "byteLimit": 2048000,
      "implicitDf": true,
      "rowLimit": 10000
     },
     "inputWidgets": {},
     "nuid": "10cf7654-d342-4dde-8ebc-25dc6b566a92",
     "showTitle": false,
     "tableResultSettingsMap": {},
     "title": ""
    }
   },
   "outputs": [],
   "source": [
    "if (spark._jsparkSession.catalog().tableExists(\"silver.cleansed_sales\")): \n",
    "    print(\">>> Start incremental loading ...\")\n",
    "    query = \"\"\"\n",
    "            WITH incremental_data AS ( \n",
    "            SELECT\n",
    "                sku, \n",
    "                category, \n",
    "                regexp_replace(name, '[0-9]', '') AS name,\n",
    "                CASE\n",
    "                WHEN regexp_replace(name, '[^0-9]', '') = '' THEN '0'\n",
    "                ELSE TRIM(regexp_replace(name, '[^0-9 ]', ''))\n",
    "                END AS product_type,\n",
    "                price, \n",
    "                sold,\n",
    "                round(price * sold, 2) AS total_revenue, \n",
    "                CASE \n",
    "                WHEN category = 'Bakery' \n",
    "                    THEN TRIM(REPLACE(description, ' - A high quality and popular choice.', ' yummy bread'))\n",
    "                WHEN category = 'Pantry' \n",
    "                    THEN TRIM(REPLACE(description, ' - A high quality and popular choice.', ' tasty pasta'))\n",
    "                WHEN category = 'Meat' \n",
    "                    THEN TRIM(REPLACE(description, ' - A high quality and popular choice.', ' juicy meat'))\n",
    "                WHEN category = 'Condiments' \n",
    "                    THEN TRIM(REPLACE(description, ' - A high quality and popular choice.', ' extra taste'))\n",
    "                WHEN category = 'Beverages' \n",
    "                    THEN TRIM(REPLACE(description, ' - A high quality and popular choice.', ' fizzy drinks'))\n",
    "                WHEN category = 'Dairy' \n",
    "                    THEN TRIM(REPLACE(description, ' - A high quality and popular choice.', ' creamy cheese'))\n",
    "                WHEN category = 'Frozen'\n",
    "                    THEN TRIM(REPLACE(description, ' - A high quality and popular choice.', ' frozen food')) \n",
    "                WHEN category = 'Produce'\n",
    "                    THEN TRIM(REPLACE(description, ' - A high quality and popular choice.', ' fresh fruits'))\n",
    "                WHEN category = 'Snacks'\n",
    "                    THEN TRIM(REPLACE(description, ' - A high quality and popular choice.', ' crunchy snacks'))\n",
    "                END AS description, \n",
    "                ingestion_date AS sale_date\n",
    "            FROM bronze.sales\n",
    "            )\n",
    "\n",
    "            MERGE INTO silver.cleansed_sales AS tgt\n",
    "            USING incremental_data AS src\n",
    "            ON tgt.sku = src.sku AND tgt.sale_date = src.sale_date -- merge condition\n",
    "            WHEN MATCHED \n",
    "            THEN UPDATE SET *\n",
    "            WHEN NOT MATCHED \n",
    "            THEN INSERT *\n",
    "            \"\"\"\n",
    "    spark.sql(query)\n",
    "\n",
    "else:\n",
    "    print(\">>> Table does not exist. Init a new one\")\n",
    "    query = \"\"\"\n",
    "                CREATE TABLE silver.cleansed_sales\n",
    "                AS\n",
    "                (\n",
    "                    SELECT\n",
    "                        sku, \n",
    "                        category, \n",
    "                        regexp_replace(name, '[0-9]', '') AS name,\n",
    "                        CASE\n",
    "                        WHEN regexp_replace(name, '[^0-9]', '') = '' THEN '0'\n",
    "                        ELSE TRIM(regexp_replace(name, '[^0-9 ]', ''))\n",
    "                        END AS product_type,\n",
    "                        price, \n",
    "                        sold,\n",
    "                        round(price * sold, 2) AS total_revenue, \n",
    "                        CASE \n",
    "                        WHEN category = 'Bakery' \n",
    "                            THEN TRIM(REPLACE(description, ' - A high quality and popular choice.', ' yummy bread'))\n",
    "                        WHEN category = 'Pantry' \n",
    "                            THEN TRIM(REPLACE(description, ' - A high quality and popular choice.', ' tasty pasta'))\n",
    "                        WHEN category = 'Meat' \n",
    "                            THEN TRIM(REPLACE(description, ' - A high quality and popular choice.', ' juicy meat'))\n",
    "                        WHEN category = 'Condiments' \n",
    "                            THEN TRIM(REPLACE(description, ' - A high quality and popular choice.', ' extra taste'))\n",
    "                        WHEN category = 'Beverages' \n",
    "                            THEN TRIM(REPLACE(description, ' - A high quality and popular choice.', ' fizzy drinks'))\n",
    "                        WHEN category = 'Dairy' \n",
    "                            THEN TRIM(REPLACE(description, ' - A high quality and popular choice.', ' creamy cheese'))\n",
    "                        WHEN category = 'Frozen'\n",
    "                            THEN TRIM(REPLACE(description, ' - A high quality and popular choice.', ' frozen food')) \n",
    "                        WHEN category = 'Produce'\n",
    "                            THEN TRIM(REPLACE(description, ' - A high quality and popular choice.', ' fresh fruits'))\n",
    "                        WHEN category = 'Snacks'\n",
    "                            THEN TRIM(REPLACE(description, ' - A high quality and popular choice.', ' crunchy snacks'))\n",
    "                        END AS description, \n",
    "                        ingestion_date AS sale_date\n",
    "                    FROM bronze.sales\n",
    "                    )\n",
    "            \"\"\"\n",
    "    spark.sql(query)"
   ]
  },
  {
   "cell_type": "code",
   "execution_count": 0,
   "metadata": {
    "application/vnd.databricks.v1+cell": {
     "cellMetadata": {
      "byteLimit": 2048000,
      "implicitDf": true,
      "rowLimit": 10000
     },
     "inputWidgets": {},
     "nuid": "044c59cf-12ae-4344-8e2b-76ac26f41ea1",
     "showTitle": false,
     "tableResultSettingsMap": {},
     "title": ""
    }
   },
   "outputs": [],
   "source": [
    "%sql\n",
    "SELECT * \n",
    "FrOM silver.cleansed_sales"
   ]
  },
  {
   "cell_type": "code",
   "execution_count": 0,
   "metadata": {
    "application/vnd.databricks.v1+cell": {
     "cellMetadata": {
      "byteLimit": 2048000,
      "rowLimit": 10000
     },
     "inputWidgets": {},
     "nuid": "3b087fe2-d9c8-46f0-bbae-1f84a5d5fad2",
     "showTitle": false,
     "tableResultSettingsMap": {},
     "title": ""
    }
   },
   "outputs": [],
   "source": []
  }
 ],
 "metadata": {
  "application/vnd.databricks.v1+notebook": {
   "computePreferences": null,
   "dashboards": [],
   "environmentMetadata": {
    "base_environment": "",
    "environment_version": "2"
   },
   "inputWidgetPreferences": null,
   "language": "python",
   "notebookMetadata": {
    "mostRecentlyExecutedCommandWithImplicitDF": {
     "commandId": 8137766590555331,
     "dataframes": [
      "_sqldf"
     ]
    },
    "pythonIndentUnit": 4
   },
   "notebookName": "processed_products",
   "widgets": {}
  },
  "language_info": {
   "name": "python"
  }
 },
 "nbformat": 4,
 "nbformat_minor": 0
}
